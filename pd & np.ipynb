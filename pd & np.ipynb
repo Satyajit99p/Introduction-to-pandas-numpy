{
 "cells": [
  {
   "cell_type": "code",
   "execution_count": 2,
   "metadata": {},
   "outputs": [
    {
     "name": "stdout",
     "output_type": "stream",
     "text": [
      "1.18.1\n"
     ]
    }
   ],
   "source": [
    "import numpy as np\n",
    "print(np.__version__)"
   ]
  },
  {
   "cell_type": "markdown",
   "metadata": {},
   "source": [
    "l1=[1,2,3,4,5]\n",
    "type(l1)"
   ]
  },
  {
   "cell_type": "code",
   "execution_count": 70,
   "metadata": {},
   "outputs": [
    {
     "name": "stdout",
     "output_type": "stream",
     "text": [
      "<class 'list'>\n"
     ]
    }
   ],
   "source": [
    "print(type(l1))"
   ]
  },
  {
   "cell_type": "code",
   "execution_count": 17,
   "metadata": {},
   "outputs": [
    {
     "name": "stdout",
     "output_type": "stream",
     "text": [
      "<class 'list'>\n"
     ]
    }
   ],
   "source": [
    "l1=[1,2,3,4,5,6,7,8]\n",
    "print(type(l1))"
   ]
  },
  {
   "cell_type": "code",
   "execution_count": 18,
   "metadata": {},
   "outputs": [],
   "source": [
    "l2=list(map(lambda x:x*x, l1))"
   ]
  },
  {
   "cell_type": "code",
   "execution_count": 19,
   "metadata": {},
   "outputs": [
    {
     "name": "stdout",
     "output_type": "stream",
     "text": [
      "[1, 4, 9, 16, 25, 36, 49, 64]\n"
     ]
    }
   ],
   "source": [
    "print(l2)"
   ]
  },
  {
   "cell_type": "code",
   "execution_count": 20,
   "metadata": {},
   "outputs": [],
   "source": [
    "x=np.array(l2)"
   ]
  },
  {
   "cell_type": "code",
   "execution_count": 21,
   "metadata": {},
   "outputs": [
    {
     "name": "stdout",
     "output_type": "stream",
     "text": [
      "[ 1  4  9 16 25 36 49 64]\n"
     ]
    }
   ],
   "source": [
    "print(x)"
   ]
  },
  {
   "cell_type": "code",
   "execution_count": 22,
   "metadata": {},
   "outputs": [
    {
     "name": "stdout",
     "output_type": "stream",
     "text": [
      "<class 'numpy.ndarray'>\n"
     ]
    }
   ],
   "source": [
    "print(type(x))"
   ]
  },
  {
   "cell_type": "code",
   "execution_count": 23,
   "metadata": {},
   "outputs": [
    {
     "name": "stdout",
     "output_type": "stream",
     "text": [
      "(8,)\n"
     ]
    }
   ],
   "source": [
    "print(x.shape)"
   ]
  },
  {
   "cell_type": "code",
   "execution_count": 24,
   "metadata": {},
   "outputs": [
    {
     "name": "stdout",
     "output_type": "stream",
     "text": [
      "1\n"
     ]
    }
   ],
   "source": [
    "print(x.ndim)"
   ]
  },
  {
   "cell_type": "code",
   "execution_count": 30,
   "metadata": {},
   "outputs": [
    {
     "name": "stdout",
     "output_type": "stream",
     "text": [
      "[[ 1  4]\n",
      " [ 9 16]\n",
      " [25 36]\n",
      " [49 64]]\n"
     ]
    }
   ],
   "source": [
    "x=x.reshape(4,2)\n",
    "print (x)"
   ]
  },
  {
   "cell_type": "code",
   "execution_count": 31,
   "metadata": {},
   "outputs": [
    {
     "name": "stdout",
     "output_type": "stream",
     "text": [
      "2\n"
     ]
    }
   ],
   "source": [
    "print(x.ndim)"
   ]
  },
  {
   "cell_type": "code",
   "execution_count": 37,
   "metadata": {},
   "outputs": [],
   "source": [
    "y=np.arange(10,dtype=float)"
   ]
  },
  {
   "cell_type": "code",
   "execution_count": 39,
   "metadata": {},
   "outputs": [
    {
     "name": "stdout",
     "output_type": "stream",
     "text": [
      "[0. 1. 2. 3. 4. 5. 6. 7. 8. 9.]\n",
      "1\n",
      "float64\n"
     ]
    }
   ],
   "source": [
    "print(y)\n",
    "print(y.ndim)\n",
    "print(y.dtype)"
   ]
  },
  {
   "cell_type": "code",
   "execution_count": 40,
   "metadata": {},
   "outputs": [
    {
     "name": "stdout",
     "output_type": "stream",
     "text": [
      "[0 1 2 3 4] [0 1 2 3 4]\n"
     ]
    }
   ],
   "source": [
    "a=np.arange(5)\n",
    "b=np.arange(5)\n",
    "print(a,b)"
   ]
  },
  {
   "cell_type": "code",
   "execution_count": 41,
   "metadata": {},
   "outputs": [
    {
     "name": "stdout",
     "output_type": "stream",
     "text": [
      "[0 2 4 6 8]\n"
     ]
    }
   ],
   "source": [
    "print(a+b)"
   ]
  },
  {
   "cell_type": "code",
   "execution_count": 42,
   "metadata": {},
   "outputs": [
    {
     "name": "stdout",
     "output_type": "stream",
     "text": [
      "[0 0 0 0 0]\n"
     ]
    }
   ],
   "source": [
    "print(a-b)"
   ]
  },
  {
   "cell_type": "code",
   "execution_count": 43,
   "metadata": {},
   "outputs": [
    {
     "name": "stdout",
     "output_type": "stream",
     "text": [
      "[ 0.          0.84147098  0.90929743  0.14112001 -0.7568025 ]\n",
      "[ 1.          0.54030231 -0.41614684 -0.9899925  -0.65364362]\n"
     ]
    }
   ],
   "source": [
    "print(np.sin(b))\n",
    "print(np.cos(a))"
   ]
  },
  {
   "cell_type": "code",
   "execution_count": 44,
   "metadata": {},
   "outputs": [
    {
     "name": "stdout",
     "output_type": "stream",
     "text": [
      "[False False False False False]\n"
     ]
    }
   ],
   "source": [
    "print(a>b)"
   ]
  },
  {
   "cell_type": "code",
   "execution_count": 77,
   "metadata": {},
   "outputs": [],
   "source": [
    "import pandas as pd\n",
    "name=['color','color_name','hex','R','B','G']\n",
    "df=pd.read_csv('C:/Users/SATYAJIT/Desktop/colors/colors.csv',names=name)"
   ]
  },
  {
   "cell_type": "code",
   "execution_count": 78,
   "metadata": {},
   "outputs": [
    {
     "name": "stdout",
     "output_type": "stream",
     "text": [
      "                    color             color_name      hex    R    B    G\n",
      "0      air_force_blue_raf   Air Force Blue (Raf)  #5d8aa8   93  138  168\n",
      "1     air_force_blue_usaf  Air Force Blue (Usaf)  #00308f    0   48  143\n",
      "2    air_superiority_blue   Air Superiority Blue  #72a0c1  114  160  193\n",
      "3         alabama_crimson        Alabama Crimson  #a32638  163   38   56\n",
      "4              alice_blue             Alice Blue  #f0f8ff  240  248  255\n",
      "..                    ...                    ...      ...  ...  ...  ...\n",
      "860         yellow_orange          Yellow Orange  #ffae42  255  174   66\n",
      "861        yellow_process       Yellow (Process)  #ffef00  255  239    0\n",
      "862            yellow_ryb           Yellow (Ryb)  #fefe33  254  254   51\n",
      "863                zaffre                 Zaffre  #0014a8    0   20  168\n",
      "864     zinnwaldite_brown      Zinnwaldite Brown  #2c1608   44   22    8\n",
      "\n",
      "[865 rows x 6 columns]\n"
     ]
    }
   ],
   "source": [
    "print(df)"
   ]
  },
  {
   "cell_type": "code",
   "execution_count": 79,
   "metadata": {},
   "outputs": [
    {
     "name": "stdout",
     "output_type": "stream",
     "text": [
      "<class 'pandas.core.frame.DataFrame'>\n"
     ]
    }
   ],
   "source": [
    "print(type(df))"
   ]
  },
  {
   "cell_type": "code",
   "execution_count": 80,
   "metadata": {},
   "outputs": [
    {
     "name": "stdout",
     "output_type": "stream",
     "text": [
      "                R           B           G\n",
      "count  865.000000  865.000000  865.000000\n",
      "mean   158.598844  124.683237  119.087861\n",
      "std     85.338432   76.270225   78.343862\n",
      "min      0.000000    0.000000    0.000000\n",
      "25%    101.000000   64.000000   53.000000\n",
      "50%    178.000000  123.000000  119.000000\n",
      "75%    236.000000  190.000000  186.000000\n",
      "max    255.000000  255.000000  255.000000\n"
     ]
    }
   ],
   "source": [
    "print(df.describe())"
   ]
  },
  {
   "cell_type": "code",
   "execution_count": 81,
   "metadata": {},
   "outputs": [
    {
     "name": "stdout",
     "output_type": "stream",
     "text": [
      "2\n"
     ]
    }
   ],
   "source": [
    "print(df.ndim)"
   ]
  },
  {
   "cell_type": "code",
   "execution_count": 82,
   "metadata": {},
   "outputs": [
    {
     "name": "stdout",
     "output_type": "stream",
     "text": [
      "(865, 6)\n"
     ]
    }
   ],
   "source": [
    "print(df.shape)"
   ]
  },
  {
   "cell_type": "code",
   "execution_count": 83,
   "metadata": {},
   "outputs": [
    {
     "name": "stdout",
     "output_type": "stream",
     "text": [
      "Index(['color', 'color_name', 'hex', 'R', 'B', 'G'], dtype='object')\n"
     ]
    }
   ],
   "source": [
    "print(df.columns)"
   ]
  },
  {
   "cell_type": "code",
   "execution_count": 84,
   "metadata": {},
   "outputs": [
    {
     "name": "stdout",
     "output_type": "stream",
     "text": [
      "RangeIndex(start=0, stop=865, step=1)\n"
     ]
    }
   ],
   "source": [
    "print(df.index)"
   ]
  },
  {
   "cell_type": "code",
   "execution_count": 85,
   "metadata": {},
   "outputs": [
    {
     "data": {
      "text/plain": [
       "color         object\n",
       "color_name    object\n",
       "hex           object\n",
       "R              int64\n",
       "B              int64\n",
       "G              int64\n",
       "dtype: object"
      ]
     },
     "execution_count": 85,
     "metadata": {},
     "output_type": "execute_result"
    }
   ],
   "source": [
    "df.dtypes"
   ]
  },
  {
   "cell_type": "code",
   "execution_count": 86,
   "metadata": {},
   "outputs": [
    {
     "data": {
      "text/html": [
       "<div>\n",
       "<style scoped>\n",
       "    .dataframe tbody tr th:only-of-type {\n",
       "        vertical-align: middle;\n",
       "    }\n",
       "\n",
       "    .dataframe tbody tr th {\n",
       "        vertical-align: top;\n",
       "    }\n",
       "\n",
       "    .dataframe thead th {\n",
       "        text-align: right;\n",
       "    }\n",
       "</style>\n",
       "<table border=\"1\" class=\"dataframe\">\n",
       "  <thead>\n",
       "    <tr style=\"text-align: right;\">\n",
       "      <th></th>\n",
       "      <th>color</th>\n",
       "      <th>color_name</th>\n",
       "      <th>hex</th>\n",
       "      <th>R</th>\n",
       "      <th>B</th>\n",
       "      <th>G</th>\n",
       "    </tr>\n",
       "  </thead>\n",
       "  <tbody>\n",
       "    <tr>\n",
       "      <th>0</th>\n",
       "      <td>air_force_blue_raf</td>\n",
       "      <td>Air Force Blue (Raf)</td>\n",
       "      <td>#5d8aa8</td>\n",
       "      <td>93</td>\n",
       "      <td>138</td>\n",
       "      <td>168</td>\n",
       "    </tr>\n",
       "    <tr>\n",
       "      <th>1</th>\n",
       "      <td>air_force_blue_usaf</td>\n",
       "      <td>Air Force Blue (Usaf)</td>\n",
       "      <td>#00308f</td>\n",
       "      <td>0</td>\n",
       "      <td>48</td>\n",
       "      <td>143</td>\n",
       "    </tr>\n",
       "    <tr>\n",
       "      <th>2</th>\n",
       "      <td>air_superiority_blue</td>\n",
       "      <td>Air Superiority Blue</td>\n",
       "      <td>#72a0c1</td>\n",
       "      <td>114</td>\n",
       "      <td>160</td>\n",
       "      <td>193</td>\n",
       "    </tr>\n",
       "    <tr>\n",
       "      <th>3</th>\n",
       "      <td>alabama_crimson</td>\n",
       "      <td>Alabama Crimson</td>\n",
       "      <td>#a32638</td>\n",
       "      <td>163</td>\n",
       "      <td>38</td>\n",
       "      <td>56</td>\n",
       "    </tr>\n",
       "    <tr>\n",
       "      <th>4</th>\n",
       "      <td>alice_blue</td>\n",
       "      <td>Alice Blue</td>\n",
       "      <td>#f0f8ff</td>\n",
       "      <td>240</td>\n",
       "      <td>248</td>\n",
       "      <td>255</td>\n",
       "    </tr>\n",
       "    <tr>\n",
       "      <th>5</th>\n",
       "      <td>alizarin_crimson</td>\n",
       "      <td>Alizarin Crimson</td>\n",
       "      <td>#e32636</td>\n",
       "      <td>227</td>\n",
       "      <td>38</td>\n",
       "      <td>54</td>\n",
       "    </tr>\n",
       "    <tr>\n",
       "      <th>6</th>\n",
       "      <td>alloy_orange</td>\n",
       "      <td>Alloy Orange</td>\n",
       "      <td>#c46210</td>\n",
       "      <td>196</td>\n",
       "      <td>98</td>\n",
       "      <td>16</td>\n",
       "    </tr>\n",
       "    <tr>\n",
       "      <th>7</th>\n",
       "      <td>almond</td>\n",
       "      <td>Almond</td>\n",
       "      <td>#efdecd</td>\n",
       "      <td>239</td>\n",
       "      <td>222</td>\n",
       "      <td>205</td>\n",
       "    </tr>\n",
       "    <tr>\n",
       "      <th>8</th>\n",
       "      <td>amaranth</td>\n",
       "      <td>Amaranth</td>\n",
       "      <td>#e52b50</td>\n",
       "      <td>229</td>\n",
       "      <td>43</td>\n",
       "      <td>80</td>\n",
       "    </tr>\n",
       "    <tr>\n",
       "      <th>9</th>\n",
       "      <td>amber</td>\n",
       "      <td>Amber</td>\n",
       "      <td>#ffbf00</td>\n",
       "      <td>255</td>\n",
       "      <td>191</td>\n",
       "      <td>0</td>\n",
       "    </tr>\n",
       "    <tr>\n",
       "      <th>10</th>\n",
       "      <td>amber_sae_ece</td>\n",
       "      <td>Amber (Sae/Ece)</td>\n",
       "      <td>#ff7e00</td>\n",
       "      <td>255</td>\n",
       "      <td>126</td>\n",
       "      <td>0</td>\n",
       "    </tr>\n",
       "    <tr>\n",
       "      <th>11</th>\n",
       "      <td>american_rose</td>\n",
       "      <td>American Rose</td>\n",
       "      <td>#ff033e</td>\n",
       "      <td>255</td>\n",
       "      <td>3</td>\n",
       "      <td>62</td>\n",
       "    </tr>\n",
       "    <tr>\n",
       "      <th>12</th>\n",
       "      <td>amethyst</td>\n",
       "      <td>Amethyst</td>\n",
       "      <td>#96c</td>\n",
       "      <td>153</td>\n",
       "      <td>102</td>\n",
       "      <td>204</td>\n",
       "    </tr>\n",
       "    <tr>\n",
       "      <th>13</th>\n",
       "      <td>android_green</td>\n",
       "      <td>Android Green</td>\n",
       "      <td>#a4c639</td>\n",
       "      <td>164</td>\n",
       "      <td>198</td>\n",
       "      <td>57</td>\n",
       "    </tr>\n",
       "    <tr>\n",
       "      <th>14</th>\n",
       "      <td>anti_flash_white</td>\n",
       "      <td>Anti-Flash White</td>\n",
       "      <td>#f2f3f4</td>\n",
       "      <td>242</td>\n",
       "      <td>243</td>\n",
       "      <td>244</td>\n",
       "    </tr>\n",
       "  </tbody>\n",
       "</table>\n",
       "</div>"
      ],
      "text/plain": [
       "                   color             color_name      hex    R    B    G\n",
       "0     air_force_blue_raf   Air Force Blue (Raf)  #5d8aa8   93  138  168\n",
       "1    air_force_blue_usaf  Air Force Blue (Usaf)  #00308f    0   48  143\n",
       "2   air_superiority_blue   Air Superiority Blue  #72a0c1  114  160  193\n",
       "3        alabama_crimson        Alabama Crimson  #a32638  163   38   56\n",
       "4             alice_blue             Alice Blue  #f0f8ff  240  248  255\n",
       "5       alizarin_crimson       Alizarin Crimson  #e32636  227   38   54\n",
       "6           alloy_orange           Alloy Orange  #c46210  196   98   16\n",
       "7                 almond                 Almond  #efdecd  239  222  205\n",
       "8               amaranth               Amaranth  #e52b50  229   43   80\n",
       "9                  amber                  Amber  #ffbf00  255  191    0\n",
       "10         amber_sae_ece        Amber (Sae/Ece)  #ff7e00  255  126    0\n",
       "11         american_rose          American Rose  #ff033e  255    3   62\n",
       "12              amethyst               Amethyst     #96c  153  102  204\n",
       "13         android_green          Android Green  #a4c639  164  198   57\n",
       "14      anti_flash_white       Anti-Flash White  #f2f3f4  242  243  244"
      ]
     },
     "execution_count": 86,
     "metadata": {},
     "output_type": "execute_result"
    }
   ],
   "source": [
    "df.head(15)"
   ]
  },
  {
   "cell_type": "code",
   "execution_count": 87,
   "metadata": {},
   "outputs": [
    {
     "data": {
      "text/html": [
       "<div>\n",
       "<style scoped>\n",
       "    .dataframe tbody tr th:only-of-type {\n",
       "        vertical-align: middle;\n",
       "    }\n",
       "\n",
       "    .dataframe tbody tr th {\n",
       "        vertical-align: top;\n",
       "    }\n",
       "\n",
       "    .dataframe thead th {\n",
       "        text-align: right;\n",
       "    }\n",
       "</style>\n",
       "<table border=\"1\" class=\"dataframe\">\n",
       "  <thead>\n",
       "    <tr style=\"text-align: right;\">\n",
       "      <th></th>\n",
       "      <th>color</th>\n",
       "      <th>color_name</th>\n",
       "      <th>hex</th>\n",
       "      <th>R</th>\n",
       "      <th>B</th>\n",
       "      <th>G</th>\n",
       "    </tr>\n",
       "  </thead>\n",
       "  <tbody>\n",
       "    <tr>\n",
       "      <th>860</th>\n",
       "      <td>yellow_orange</td>\n",
       "      <td>Yellow Orange</td>\n",
       "      <td>#ffae42</td>\n",
       "      <td>255</td>\n",
       "      <td>174</td>\n",
       "      <td>66</td>\n",
       "    </tr>\n",
       "    <tr>\n",
       "      <th>861</th>\n",
       "      <td>yellow_process</td>\n",
       "      <td>Yellow (Process)</td>\n",
       "      <td>#ffef00</td>\n",
       "      <td>255</td>\n",
       "      <td>239</td>\n",
       "      <td>0</td>\n",
       "    </tr>\n",
       "    <tr>\n",
       "      <th>862</th>\n",
       "      <td>yellow_ryb</td>\n",
       "      <td>Yellow (Ryb)</td>\n",
       "      <td>#fefe33</td>\n",
       "      <td>254</td>\n",
       "      <td>254</td>\n",
       "      <td>51</td>\n",
       "    </tr>\n",
       "    <tr>\n",
       "      <th>863</th>\n",
       "      <td>zaffre</td>\n",
       "      <td>Zaffre</td>\n",
       "      <td>#0014a8</td>\n",
       "      <td>0</td>\n",
       "      <td>20</td>\n",
       "      <td>168</td>\n",
       "    </tr>\n",
       "    <tr>\n",
       "      <th>864</th>\n",
       "      <td>zinnwaldite_brown</td>\n",
       "      <td>Zinnwaldite Brown</td>\n",
       "      <td>#2c1608</td>\n",
       "      <td>44</td>\n",
       "      <td>22</td>\n",
       "      <td>8</td>\n",
       "    </tr>\n",
       "  </tbody>\n",
       "</table>\n",
       "</div>"
      ],
      "text/plain": [
       "                 color         color_name      hex    R    B    G\n",
       "860      yellow_orange      Yellow Orange  #ffae42  255  174   66\n",
       "861     yellow_process   Yellow (Process)  #ffef00  255  239    0\n",
       "862         yellow_ryb       Yellow (Ryb)  #fefe33  254  254   51\n",
       "863             zaffre             Zaffre  #0014a8    0   20  168\n",
       "864  zinnwaldite_brown  Zinnwaldite Brown  #2c1608   44   22    8"
      ]
     },
     "execution_count": 87,
     "metadata": {},
     "output_type": "execute_result"
    }
   ],
   "source": [
    "df.tail()"
   ]
  },
  {
   "cell_type": "code",
   "execution_count": 88,
   "metadata": {},
   "outputs": [
    {
     "data": {
      "text/html": [
       "<div>\n",
       "<style scoped>\n",
       "    .dataframe tbody tr th:only-of-type {\n",
       "        vertical-align: middle;\n",
       "    }\n",
       "\n",
       "    .dataframe tbody tr th {\n",
       "        vertical-align: top;\n",
       "    }\n",
       "\n",
       "    .dataframe thead th {\n",
       "        text-align: right;\n",
       "    }\n",
       "</style>\n",
       "<table border=\"1\" class=\"dataframe\">\n",
       "  <thead>\n",
       "    <tr style=\"text-align: right;\">\n",
       "      <th></th>\n",
       "      <th>color</th>\n",
       "      <th>color_name</th>\n",
       "      <th>hex</th>\n",
       "      <th>R</th>\n",
       "      <th>B</th>\n",
       "      <th>G</th>\n",
       "    </tr>\n",
       "  </thead>\n",
       "  <tbody>\n",
       "    <tr>\n",
       "      <th>7</th>\n",
       "      <td>almond</td>\n",
       "      <td>Almond</td>\n",
       "      <td>#efdecd</td>\n",
       "      <td>239</td>\n",
       "      <td>222</td>\n",
       "      <td>205</td>\n",
       "    </tr>\n",
       "  </tbody>\n",
       "</table>\n",
       "</div>"
      ],
      "text/plain": [
       "    color color_name      hex    R    B    G\n",
       "7  almond     Almond  #efdecd  239  222  205"
      ]
     },
     "execution_count": 88,
     "metadata": {},
     "output_type": "execute_result"
    }
   ],
   "source": [
    "df.sample()"
   ]
  },
  {
   "cell_type": "code",
   "execution_count": 89,
   "metadata": {},
   "outputs": [
    {
     "data": {
      "text/plain": [
       "color           amber_sae_ece\n",
       "color_name    Amber (Sae/Ece)\n",
       "hex                   #ff7e00\n",
       "R                         255\n",
       "B                         126\n",
       "G                           0\n",
       "Name: 10, dtype: object"
      ]
     },
     "execution_count": 89,
     "metadata": {},
     "output_type": "execute_result"
    }
   ],
   "source": [
    "df.iloc[10]"
   ]
  },
  {
   "cell_type": "code",
   "execution_count": 90,
   "metadata": {},
   "outputs": [
    {
     "data": {
      "text/html": [
       "<div>\n",
       "<style scoped>\n",
       "    .dataframe tbody tr th:only-of-type {\n",
       "        vertical-align: middle;\n",
       "    }\n",
       "\n",
       "    .dataframe tbody tr th {\n",
       "        vertical-align: top;\n",
       "    }\n",
       "\n",
       "    .dataframe thead th {\n",
       "        text-align: right;\n",
       "    }\n",
       "</style>\n",
       "<table border=\"1\" class=\"dataframe\">\n",
       "  <thead>\n",
       "    <tr style=\"text-align: right;\">\n",
       "      <th></th>\n",
       "      <th>color</th>\n",
       "      <th>color_name</th>\n",
       "      <th>hex</th>\n",
       "      <th>R</th>\n",
       "      <th>B</th>\n",
       "      <th>G</th>\n",
       "    </tr>\n",
       "  </thead>\n",
       "  <tbody>\n",
       "    <tr>\n",
       "      <th>0</th>\n",
       "      <td>air_force_blue_raf</td>\n",
       "      <td>Air Force Blue (Raf)</td>\n",
       "      <td>#5d8aa8</td>\n",
       "      <td>93</td>\n",
       "      <td>138</td>\n",
       "      <td>168</td>\n",
       "    </tr>\n",
       "    <tr>\n",
       "      <th>1</th>\n",
       "      <td>air_force_blue_usaf</td>\n",
       "      <td>Air Force Blue (Usaf)</td>\n",
       "      <td>#00308f</td>\n",
       "      <td>0</td>\n",
       "      <td>48</td>\n",
       "      <td>143</td>\n",
       "    </tr>\n",
       "    <tr>\n",
       "      <th>2</th>\n",
       "      <td>air_superiority_blue</td>\n",
       "      <td>Air Superiority Blue</td>\n",
       "      <td>#72a0c1</td>\n",
       "      <td>114</td>\n",
       "      <td>160</td>\n",
       "      <td>193</td>\n",
       "    </tr>\n",
       "    <tr>\n",
       "      <th>3</th>\n",
       "      <td>alabama_crimson</td>\n",
       "      <td>Alabama Crimson</td>\n",
       "      <td>#a32638</td>\n",
       "      <td>163</td>\n",
       "      <td>38</td>\n",
       "      <td>56</td>\n",
       "    </tr>\n",
       "    <tr>\n",
       "      <th>4</th>\n",
       "      <td>alice_blue</td>\n",
       "      <td>Alice Blue</td>\n",
       "      <td>#f0f8ff</td>\n",
       "      <td>240</td>\n",
       "      <td>248</td>\n",
       "      <td>255</td>\n",
       "    </tr>\n",
       "  </tbody>\n",
       "</table>\n",
       "</div>"
      ],
      "text/plain": [
       "                  color             color_name      hex    R    B    G\n",
       "0    air_force_blue_raf   Air Force Blue (Raf)  #5d8aa8   93  138  168\n",
       "1   air_force_blue_usaf  Air Force Blue (Usaf)  #00308f    0   48  143\n",
       "2  air_superiority_blue   Air Superiority Blue  #72a0c1  114  160  193\n",
       "3       alabama_crimson        Alabama Crimson  #a32638  163   38   56\n",
       "4            alice_blue             Alice Blue  #f0f8ff  240  248  255"
      ]
     },
     "execution_count": 90,
     "metadata": {},
     "output_type": "execute_result"
    }
   ],
   "source": [
    "df.iloc[0:5]"
   ]
  },
  {
   "cell_type": "code",
   "execution_count": 92,
   "metadata": {},
   "outputs": [
    {
     "data": {
      "text/plain": [
       "0        air_force_blue_raf\n",
       "1       air_force_blue_usaf\n",
       "2      air_superiority_blue\n",
       "3           alabama_crimson\n",
       "4                alice_blue\n",
       "               ...         \n",
       "860           yellow_orange\n",
       "861          yellow_process\n",
       "862              yellow_ryb\n",
       "863                  zaffre\n",
       "864       zinnwaldite_brown\n",
       "Name: color, Length: 865, dtype: object"
      ]
     },
     "execution_count": 92,
     "metadata": {},
     "output_type": "execute_result"
    }
   ],
   "source": [
    "df['color']"
   ]
  },
  {
   "cell_type": "code",
   "execution_count": 93,
   "metadata": {},
   "outputs": [
    {
     "data": {
      "text/html": [
       "<div>\n",
       "<style scoped>\n",
       "    .dataframe tbody tr th:only-of-type {\n",
       "        vertical-align: middle;\n",
       "    }\n",
       "\n",
       "    .dataframe tbody tr th {\n",
       "        vertical-align: top;\n",
       "    }\n",
       "\n",
       "    .dataframe thead th {\n",
       "        text-align: right;\n",
       "    }\n",
       "</style>\n",
       "<table border=\"1\" class=\"dataframe\">\n",
       "  <thead>\n",
       "    <tr style=\"text-align: right;\">\n",
       "      <th></th>\n",
       "      <th>color</th>\n",
       "      <th>color_name</th>\n",
       "      <th>hex</th>\n",
       "      <th>R</th>\n",
       "      <th>B</th>\n",
       "    </tr>\n",
       "  </thead>\n",
       "  <tbody>\n",
       "    <tr>\n",
       "      <th>10</th>\n",
       "      <td>amber_sae_ece</td>\n",
       "      <td>Amber (Sae/Ece)</td>\n",
       "      <td>#ff7e00</td>\n",
       "      <td>255</td>\n",
       "      <td>126</td>\n",
       "    </tr>\n",
       "    <tr>\n",
       "      <th>11</th>\n",
       "      <td>american_rose</td>\n",
       "      <td>American Rose</td>\n",
       "      <td>#ff033e</td>\n",
       "      <td>255</td>\n",
       "      <td>3</td>\n",
       "    </tr>\n",
       "    <tr>\n",
       "      <th>12</th>\n",
       "      <td>amethyst</td>\n",
       "      <td>Amethyst</td>\n",
       "      <td>#96c</td>\n",
       "      <td>153</td>\n",
       "      <td>102</td>\n",
       "    </tr>\n",
       "    <tr>\n",
       "      <th>13</th>\n",
       "      <td>android_green</td>\n",
       "      <td>Android Green</td>\n",
       "      <td>#a4c639</td>\n",
       "      <td>164</td>\n",
       "      <td>198</td>\n",
       "    </tr>\n",
       "    <tr>\n",
       "      <th>14</th>\n",
       "      <td>anti_flash_white</td>\n",
       "      <td>Anti-Flash White</td>\n",
       "      <td>#f2f3f4</td>\n",
       "      <td>242</td>\n",
       "      <td>243</td>\n",
       "    </tr>\n",
       "  </tbody>\n",
       "</table>\n",
       "</div>"
      ],
      "text/plain": [
       "               color        color_name      hex    R    B\n",
       "10     amber_sae_ece   Amber (Sae/Ece)  #ff7e00  255  126\n",
       "11     american_rose     American Rose  #ff033e  255    3\n",
       "12          amethyst          Amethyst     #96c  153  102\n",
       "13     android_green     Android Green  #a4c639  164  198\n",
       "14  anti_flash_white  Anti-Flash White  #f2f3f4  242  243"
      ]
     },
     "execution_count": 93,
     "metadata": {},
     "output_type": "execute_result"
    }
   ],
   "source": [
    "df.iloc[10:15,0:5]"
   ]
  },
  {
   "cell_type": "code",
   "execution_count": 94,
   "metadata": {},
   "outputs": [
    {
     "data": {
      "text/plain": [
       "0     Air Force Blue (Raf)\n",
       "1    Air Force Blue (Usaf)\n",
       "2     Air Superiority Blue\n",
       "3          Alabama Crimson\n",
       "4               Alice Blue\n",
       "5         Alizarin Crimson\n",
       "Name: color_name, dtype: object"
      ]
     },
     "execution_count": 94,
     "metadata": {},
     "output_type": "execute_result"
    }
   ],
   "source": [
    "df.loc[0:5,'color_name']"
   ]
  },
  {
   "cell_type": "code",
   "execution_count": 95,
   "metadata": {},
   "outputs": [
    {
     "data": {
      "text/html": [
       "<div>\n",
       "<style scoped>\n",
       "    .dataframe tbody tr th:only-of-type {\n",
       "        vertical-align: middle;\n",
       "    }\n",
       "\n",
       "    .dataframe tbody tr th {\n",
       "        vertical-align: top;\n",
       "    }\n",
       "\n",
       "    .dataframe thead th {\n",
       "        text-align: right;\n",
       "    }\n",
       "</style>\n",
       "<table border=\"1\" class=\"dataframe\">\n",
       "  <thead>\n",
       "    <tr style=\"text-align: right;\">\n",
       "      <th></th>\n",
       "      <th>color_name</th>\n",
       "      <th>hex</th>\n",
       "    </tr>\n",
       "  </thead>\n",
       "  <tbody>\n",
       "    <tr>\n",
       "      <th>0</th>\n",
       "      <td>Air Force Blue (Raf)</td>\n",
       "      <td>#5d8aa8</td>\n",
       "    </tr>\n",
       "    <tr>\n",
       "      <th>1</th>\n",
       "      <td>Air Force Blue (Usaf)</td>\n",
       "      <td>#00308f</td>\n",
       "    </tr>\n",
       "    <tr>\n",
       "      <th>2</th>\n",
       "      <td>Air Superiority Blue</td>\n",
       "      <td>#72a0c1</td>\n",
       "    </tr>\n",
       "    <tr>\n",
       "      <th>3</th>\n",
       "      <td>Alabama Crimson</td>\n",
       "      <td>#a32638</td>\n",
       "    </tr>\n",
       "    <tr>\n",
       "      <th>4</th>\n",
       "      <td>Alice Blue</td>\n",
       "      <td>#f0f8ff</td>\n",
       "    </tr>\n",
       "    <tr>\n",
       "      <th>5</th>\n",
       "      <td>Alizarin Crimson</td>\n",
       "      <td>#e32636</td>\n",
       "    </tr>\n",
       "  </tbody>\n",
       "</table>\n",
       "</div>"
      ],
      "text/plain": [
       "              color_name      hex\n",
       "0   Air Force Blue (Raf)  #5d8aa8\n",
       "1  Air Force Blue (Usaf)  #00308f\n",
       "2   Air Superiority Blue  #72a0c1\n",
       "3        Alabama Crimson  #a32638\n",
       "4             Alice Blue  #f0f8ff\n",
       "5       Alizarin Crimson  #e32636"
      ]
     },
     "execution_count": 95,
     "metadata": {},
     "output_type": "execute_result"
    }
   ],
   "source": [
    "df.loc[0:5,['color_name','hex']]"
   ]
  },
  {
   "cell_type": "code",
   "execution_count": 96,
   "metadata": {},
   "outputs": [
    {
     "data": {
      "text/plain": [
       "array(['Air Force Blue (Raf)', 'Air Force Blue (Usaf)',\n",
       "       'Air Superiority Blue', 'Alabama Crimson', 'Alice Blue',\n",
       "       'Alizarin Crimson', 'Alloy Orange', 'Almond', 'Amaranth', 'Amber',\n",
       "       'Amber (Sae/Ece)', 'American Rose', 'Amethyst', 'Android Green',\n",
       "       'Anti-Flash White', 'Antique Brass', 'Antique Fuchsia',\n",
       "       'Antique Ruby', 'Antique White', 'Ao (English)', 'Apple Green',\n",
       "       'Apricot', 'Aqua', 'Aquamarine', 'Army Green', 'Arsenic',\n",
       "       'Arylide Yellow', 'Ash Grey', 'Asparagus', 'Atomic Tangerine',\n",
       "       'Auburn', 'Aureolin', 'Aurometalsaurus', 'Avocado', 'Azure',\n",
       "       'Azure Mist/Web', 'Baby Blue', 'Baby Blue Eyes', 'Baby Pink',\n",
       "       'Ball Blue', 'Banana Mania', 'Banana Yellow', 'Barn Red',\n",
       "       'Battleship Grey', 'Bazaar', 'Beau Blue', 'Beaver', 'Beige',\n",
       "       'Big Dip O’Ruby', 'Bisque', 'Bistre', 'Bittersweet',\n",
       "       'Bittersweet Shimmer', 'Black', 'Black Bean',\n",
       "       'Black Leather Jacket', 'Black Olive', 'Blanched Almond',\n",
       "       'Blast-Off Bronze', 'Bleu De France', 'Blizzard Blue', 'Blond',\n",
       "       'Blue', 'Blue Bell', 'Blue (Crayola)', 'Blue Gray', 'Blue-Green',\n",
       "       'Blue (Munsell)', 'Blue (Ncs)', 'Blue (Pigment)', 'Blue (Ryb)',\n",
       "       'Blue Sapphire', 'Blue-Violet', 'Blush', 'Bole', 'Bondi Blue',\n",
       "       'Bone', 'Boston University Red', 'Bottle Green', 'Boysenberry',\n",
       "       'Brandeis Blue', 'Brass', 'Brick Red', 'Bright Cerulean',\n",
       "       'Bright Green', 'Bright Lavender', 'Bright Maroon', 'Bright Pink',\n",
       "       'Bright Turquoise', 'Bright Ube', 'Brilliant Lavender',\n",
       "       'Brilliant Rose', 'Brink Pink', 'British Racing Green', 'Bronze',\n",
       "       'Brown (Traditional)', 'Brown (Web)', 'Bubble Gum', 'Bubbles',\n",
       "       'Buff', 'Bulgarian Rose', 'Burgundy', 'Burlywood', 'Burnt Orange',\n",
       "       'Burnt Sienna', 'Burnt Umber', 'Byzantine', 'Byzantium', 'Cadet',\n",
       "       'Cadet Blue', 'Cadet Grey', 'Cadmium Green', 'Cadmium Orange',\n",
       "       'Cadmium Red', 'Cadmium Yellow', 'Café Au Lait', 'Café Noir',\n",
       "       'Cal Poly Green', 'Cambridge Blue', 'Camel', 'Cameo Pink',\n",
       "       'Camouflage Green', 'Canary Yellow', 'Candy Apple Red',\n",
       "       'Candy Pink', 'Capri', 'Caput Mortuum', 'Cardinal',\n",
       "       'Caribbean Green', 'Carmine', 'Carmine (M&P)', 'Carmine Pink',\n",
       "       'Carmine Red', 'Carnation Pink', 'Carnelian', 'Carolina Blue',\n",
       "       'Carrot Orange', 'Catalina Blue', 'Ceil', 'Celadon',\n",
       "       'Celadon Blue', 'Celadon Green', 'Celeste (Colour)',\n",
       "       'Celestial Blue', 'Cerise', 'Cerise Pink', 'Cerulean',\n",
       "       'Cerulean Blue', 'Cerulean Frost', 'Cg Blue', 'Cg Red',\n",
       "       'Chamoisee', 'Champagne', 'Charcoal', 'Charm Pink',\n",
       "       'Chartreuse (Traditional)', 'Chartreuse (Web)', 'Cherry',\n",
       "       'Cherry Blossom Pink', 'Chestnut', 'China Pink', 'China Rose',\n",
       "       'Chinese Red', 'Chocolate (Traditional)', 'Chocolate (Web)',\n",
       "       'Chrome Yellow', 'Cinereous', 'Cinnabar', 'Cinnamon', 'Citrine',\n",
       "       'Classic Rose', 'Cobalt', 'Cocoa Brown', 'Coffee', 'Columbia Blue',\n",
       "       'Congo Pink', 'Cool Black', 'Cool Grey', 'Copper',\n",
       "       'Copper (Crayola)', 'Copper Penny', 'Copper Red', 'Copper Rose',\n",
       "       'Coquelicot', 'Coral', 'Coral Pink', 'Coral Red', 'Cordovan',\n",
       "       'Corn', 'Cornell Red', 'Cornflower Blue', 'Cornsilk',\n",
       "       'Cosmic Latte', 'Cotton Candy', 'Cream', 'Crimson',\n",
       "       'Crimson Glory', 'Cyan', 'Cyan (Process)', 'Daffodil', 'Dandelion',\n",
       "       'Dark Blue', 'Dark Brown', 'Dark Byzantium',\n",
       "       'Dark Candy Apple Red', 'Dark Cerulean', 'Dark Chestnut',\n",
       "       'Dark Coral', 'Dark Cyan', 'Dark Electric Blue', 'Dark Goldenrod',\n",
       "       'Dark Gray', 'Dark Green', 'Dark Imperial Blue',\n",
       "       'Dark Jungle Green', 'Dark Khaki', 'Dark Lava', 'Dark Lavender',\n",
       "       'Dark Magenta', 'Dark Midnight Blue', 'Dark Olive Green',\n",
       "       'Dark Orange', 'Dark Orchid', 'Dark Pastel Blue',\n",
       "       'Dark Pastel Green', 'Dark Pastel Purple', 'Dark Pastel Red',\n",
       "       'Dark Pink', 'Dark Powder Blue', 'Dark Raspberry', 'Dark Red',\n",
       "       'Dark Salmon', 'Dark Scarlet', 'Dark Sea Green', 'Dark Sienna',\n",
       "       'Dark Slate Blue', 'Dark Slate Gray', 'Dark Spring Green',\n",
       "       'Dark Tan', 'Dark Tangerine', 'Dark Taupe', 'Dark Terra Cotta',\n",
       "       'Dark Turquoise', 'Dark Violet', 'Dark Yellow', 'Dartmouth Green',\n",
       "       \"Davy'S Grey\", 'Debian Red', 'Deep Carmine', 'Deep Carmine Pink',\n",
       "       'Deep Carrot Orange', 'Deep Cerise', 'Deep Champagne',\n",
       "       'Deep Chestnut', 'Deep Coffee', 'Deep Fuchsia',\n",
       "       'Deep Jungle Green', 'Deep Lilac', 'Deep Magenta', 'Deep Peach',\n",
       "       'Deep Pink', 'Deep Ruby', 'Deep Saffron', 'Deep Sky Blue',\n",
       "       'Deep Tuscan Red', 'Denim', 'Desert', 'Desert Sand', 'Dim Gray',\n",
       "       'Dodger Blue', 'Dogwood Rose', 'Dollar Bill', 'Drab', 'Duke Blue',\n",
       "       'Earth Yellow', 'Ebony', 'Ecru', 'Eggplant', 'Eggshell',\n",
       "       'Egyptian Blue', 'Electric Blue', 'Electric Crimson',\n",
       "       'Electric Cyan', 'Electric Green', 'Electric Indigo',\n",
       "       'Electric Lavender', 'Electric Lime', 'Electric Purple',\n",
       "       'Electric Ultramarine', 'Electric Violet', 'Electric Yellow',\n",
       "       'Emerald', 'English Lavender', 'Eton Blue', 'Fallow', 'Falu Red',\n",
       "       'Fandango', 'Fashion Fuchsia', 'Fawn', 'Feldgrau', 'Fern Green',\n",
       "       'Ferrari Red', 'Field Drab', 'Fire Engine Red', 'Firebrick',\n",
       "       'Flame', 'Flamingo Pink', 'Flavescent', 'Flax', 'Floral White',\n",
       "       'Fluorescent Orange', 'Fluorescent Pink', 'Fluorescent Yellow',\n",
       "       'Folly', 'Forest Green (Traditional)', 'Forest Green (Web)',\n",
       "       'French Beige', 'French Blue', 'French Lilac', 'French Lime',\n",
       "       'French Raspberry', 'French Rose', 'Fuchsia', 'Fuchsia (Crayola)',\n",
       "       'Fuchsia Pink', 'Fuchsia Rose', 'Fulvous', 'Fuzzy Wuzzy',\n",
       "       'Gainsboro', 'Gamboge', 'Ghost White', 'Ginger', 'Glaucous',\n",
       "       'Glitter', 'Gold (Metallic)', 'Gold (Web) (Golden)',\n",
       "       'Golden Brown', 'Golden Poppy', 'Golden Yellow', 'Goldenrod',\n",
       "       'Granny Smith Apple', 'Gray', 'Gray-Asparagus',\n",
       "       'Gray (Html/Css Gray)', 'Gray (X11 Gray)',\n",
       "       'Green (Color Wheel) (X11 Green)', 'Green (Crayola)',\n",
       "       'Green (Html/Css Green)', 'Green (Munsell)', 'Green (Ncs)',\n",
       "       'Green (Pigment)', 'Green (Ryb)', 'Green-Yellow', 'Grullo',\n",
       "       'Guppie Green', 'Halayà úBe', 'Han Blue', 'Han Purple',\n",
       "       'Hansa Yellow', 'Harlequin', 'Harvard Crimson', 'Harvest Gold',\n",
       "       'Heart Gold', 'Heliotrope', 'Hollywood Cerise', 'Honeydew',\n",
       "       'Honolulu Blue', \"Hooker'S Green\", 'Hot Magenta', 'Hot Pink',\n",
       "       'Hunter Green', 'Iceberg', 'Icterine', 'Imperial Blue', 'Inchworm',\n",
       "       'India Green', 'Indian Red', 'Indian Yellow', 'Indigo',\n",
       "       'Indigo (Dye)', 'Indigo (Web)', 'International Klein Blue',\n",
       "       'International Orange (Aerospace)',\n",
       "       'International Orange (Engineering)',\n",
       "       'International Orange (Golden Gate Bridge)', 'Iris', 'Isabelline',\n",
       "       'Islamic Green', 'Ivory', 'Jade', 'Jasmine', 'Jasper',\n",
       "       'Jazzberry Jam', 'Jet', 'Jonquil', 'June Bud', 'Jungle Green',\n",
       "       'Kelly Green', 'Kenyan Copper', 'Khaki (Html/Css) (Khaki)',\n",
       "       'Khaki (X11) (Light Khaki)', 'Ku Crimson', 'La Salle Green',\n",
       "       'Languid Lavender', 'Lapis Lazuli', 'Laser Lemon', 'Laurel Green',\n",
       "       'Lava', 'Lavender Blue', 'Lavender Blush', 'Lavender (Floral)',\n",
       "       'Lavender Gray', 'Lavender Indigo', 'Lavender Magenta',\n",
       "       'Lavender Mist', 'Lavender Pink', 'Lavender Purple',\n",
       "       'Lavender Rose', 'Lavender (Web)', 'Lawn Green', 'Lemon',\n",
       "       'Lemon Chiffon', 'Lemon Lime', 'Licorice', 'Light Apricot',\n",
       "       'Light Blue', 'Light Brown', 'Light Carmine Pink', 'Light Coral',\n",
       "       'Light Cornflower Blue', 'Light Crimson', 'Light Cyan',\n",
       "       'Light Fuchsia Pink', 'Light Goldenrod Yellow', 'Light Gray',\n",
       "       'Light Green', 'Light Khaki', 'Light Pastel Purple', 'Light Pink',\n",
       "       'Light Red Ochre', 'Light Salmon', 'Light Salmon Pink',\n",
       "       'Light Sea Green', 'Light Sky Blue', 'Light Slate Gray',\n",
       "       'Light Taupe', 'Light Thulian Pink', 'Light Yellow', 'Lilac',\n",
       "       'Lime (Color Wheel)', 'Lime Green', 'Lime (Web) (X11 Green)',\n",
       "       'Limerick', 'Lincoln Green', 'Linen', 'Lion', 'Little Boy Blue',\n",
       "       'Liver', 'Lust', 'Magenta', 'Magenta (Dye)', 'Magenta (Process)',\n",
       "       'Magic Mint', 'Magnolia', 'Mahogany', 'Maize', 'Majorelle Blue',\n",
       "       'Malachite', 'Manatee', 'Mango Tango', 'Mantis', 'Mardi Gras',\n",
       "       'Maroon (Crayola)', 'Maroon (Html/Css)', 'Maroon (X11)', 'Mauve',\n",
       "       'Mauve Taupe', 'Mauvelous', 'Maya Blue', 'Meat Brown',\n",
       "       'Medium Aquamarine', 'Medium Blue', 'Medium Candy Apple Red',\n",
       "       'Medium Carmine', 'Medium Champagne', 'Medium Electric Blue',\n",
       "       'Medium Jungle Green', 'Medium Lavender Magenta', 'Medium Orchid',\n",
       "       'Medium Persian Blue', 'Medium Purple', 'Medium Red-Violet',\n",
       "       'Medium Ruby', 'Medium Sea Green', 'Medium Slate Blue',\n",
       "       'Medium Spring Bud', 'Medium Spring Green', 'Medium Taupe',\n",
       "       'Medium Turquoise', 'Medium Tuscan Red', 'Medium Vermilion',\n",
       "       'Medium Violet-Red', 'Mellow Apricot', 'Mellow Yellow', 'Melon',\n",
       "       'Midnight Blue', 'Midnight Green (Eagle Green)', 'Mikado Yellow',\n",
       "       'Mint', 'Mint Cream', 'Mint Green', 'Misty Rose', 'Moccasin',\n",
       "       'Mode Beige', 'Moonstone Blue', 'Mordant Red 19', 'Moss Green',\n",
       "       'Mountain Meadow', 'Mountbatten Pink', 'Msu Green', 'Mulberry',\n",
       "       'Mustard', 'Myrtle', 'Nadeshiko Pink', 'Napier Green',\n",
       "       'Naples Yellow', 'Navajo White', 'Navy Blue', 'Neon Carrot',\n",
       "       'Neon Fuchsia', 'Neon Green', 'New York Pink', 'Non-Photo Blue',\n",
       "       'North Texas Green', 'Ocean Boat Blue', 'Ochre', 'Office Green',\n",
       "       'Old Gold', 'Old Lace', 'Old Lavender', 'Old Mauve', 'Old Rose',\n",
       "       'Olive', 'Olive Drab #7', 'Olive Drab (Web) (Olive Drab #3)',\n",
       "       'Olivine', 'Onyx', 'Opera Mauve', 'Orange (Color Wheel)',\n",
       "       'Orange Peel', 'Orange-Red', 'Orange (Ryb)', 'Orange (Web Color)',\n",
       "       'Orchid', 'Otter Brown', 'Ou Crimson Red', 'Outer Space',\n",
       "       'Outrageous Orange', 'Oxford Blue', 'Pakistan Green',\n",
       "       'Palatinate Blue', 'Palatinate Purple', 'Pale Aqua', 'Pale Blue',\n",
       "       'Pale Brown', 'Pale Carmine', 'Pale Cerulean', 'Pale Chestnut',\n",
       "       'Pale Copper', 'Pale Cornflower Blue', 'Pale Gold',\n",
       "       'Pale Goldenrod', 'Pale Green', 'Pale Lavender', 'Pale Magenta',\n",
       "       'Pale Pink', 'Pale Plum', 'Pale Red-Violet', 'Pale Robin Egg Blue',\n",
       "       'Pale Silver', 'Pale Spring Bud', 'Pale Taupe', 'Pale Violet-Red',\n",
       "       'Pansy Purple', 'Papaya Whip', 'Paris Green', 'Pastel Blue',\n",
       "       'Pastel Brown', 'Pastel Gray', 'Pastel Green', 'Pastel Magenta',\n",
       "       'Pastel Orange', 'Pastel Pink', 'Pastel Purple', 'Pastel Red',\n",
       "       'Pastel Violet', 'Pastel Yellow', 'Patriarch', \"Payne'S Grey\",\n",
       "       'Peach', 'Peach (Crayola)', 'Peach-Orange', 'Peach Puff',\n",
       "       'Peach-Yellow', 'Pear', 'Pearl', 'Pearl Aqua', 'Pearly Purple',\n",
       "       'Peridot', 'Periwinkle', 'Persian Blue', 'Persian Green',\n",
       "       'Persian Indigo', 'Persian Orange', 'Persian Pink', 'Persian Plum',\n",
       "       'Persian Red', 'Persian Rose', 'Persimmon', 'Peru', 'Phlox',\n",
       "       'Phthalo Blue', 'Phthalo Green', 'Piggy Pink', 'Pine Green',\n",
       "       'Pink', 'Pink Lace', 'Pink-Orange', 'Pink Pearl', 'Pink Sherbet',\n",
       "       'Pistachio', 'Platinum', 'Plum (Traditional)', 'Plum (Web)',\n",
       "       'Portland Orange', 'Powder Blue (Web)', 'Princeton Orange',\n",
       "       'Prune', 'Prussian Blue', 'Psychedelic Purple', 'Puce', 'Pumpkin',\n",
       "       'Purple Heart', 'Purple (Html/Css)', 'Purple Mountain Majesty',\n",
       "       'Purple (Munsell)', 'Purple Pizzazz', 'Purple Taupe',\n",
       "       'Purple (X11)', 'Quartz', 'Rackley', 'Radical Red', 'Rajah',\n",
       "       'Raspberry', 'Raspberry Glace', 'Raspberry Pink', 'Raspberry Rose',\n",
       "       'Raw Umber', 'Razzle Dazzle Rose', 'Razzmatazz', 'Red',\n",
       "       'Red-Brown', 'Red Devil', 'Red (Munsell)', 'Red (Ncs)',\n",
       "       'Red-Orange', 'Red (Pigment)', 'Red (Ryb)', 'Red-Violet',\n",
       "       'Redwood', 'Regalia', 'Resolution Blue', 'Rich Black',\n",
       "       'Rich Brilliant Lavender', 'Rich Carmine', 'Rich Electric Blue',\n",
       "       'Rich Lavender', 'Rich Lilac', 'Rich Maroon', 'Rifle Green',\n",
       "       'Robin Egg Blue', 'Rose', 'Rose Bonbon', 'Rose Ebony', 'Rose Gold',\n",
       "       'Rose Madder', 'Rose Pink', 'Rose Quartz', 'Rose Taupe',\n",
       "       'Rose Vale', 'Rosewood', 'Rosso Corsa', 'Rosy Brown',\n",
       "       'Royal Azure', 'Royal Blue (Traditional)', 'Royal Blue (Web)',\n",
       "       'Royal Fuchsia', 'Royal Purple', 'Royal Yellow', 'Rubine Red',\n",
       "       'Ruby', 'Ruby Red', 'Ruddy', 'Ruddy Brown', 'Ruddy Pink', 'Rufous',\n",
       "       'Russet', 'Rust', 'Rusty Red', 'Sacramento State Green',\n",
       "       'Saddle Brown', 'Safety Orange (Blaze Orange)', 'Saffron',\n",
       "       'Salmon', 'Salmon Pink', 'Sand', 'Sand Dune', 'Sandstorm',\n",
       "       'Sandy Brown', 'Sandy Taupe', 'Sangria', 'Sap Green', 'Sapphire',\n",
       "       'Sapphire Blue', 'Satin Sheen Gold', 'Scarlet',\n",
       "       'Scarlet (Crayola)', 'School Bus Yellow', \"Screamin' Green\",\n",
       "       'Sea Blue', 'Sea Green', 'Seal Brown', 'Seashell',\n",
       "       'Selective Yellow', 'Sepia', 'Shadow', 'Shamrock Green',\n",
       "       'Shocking Pink', 'Shocking Pink (Crayola)', 'Sienna', 'Silver',\n",
       "       'Sinopia', 'Skobeloff', 'Sky Blue', 'Sky Magenta', 'Slate Blue',\n",
       "       'Slate Gray', 'Smalt (Dark Powder Blue)', 'Smokey Topaz',\n",
       "       'Smoky Black', 'Snow', 'Spiro Disco Ball', 'Spring Bud',\n",
       "       'Spring Green', \"St. Patrick'S Blue\", 'Steel Blue',\n",
       "       'Stil De Grain Yellow', 'Stizza', 'Stormcloud', 'Straw', 'Sunglow',\n",
       "       'Sunset', 'Tan', 'Tangelo', 'Tangerine', 'Tangerine Yellow',\n",
       "       'Tango Pink', 'Taupe', 'Taupe Gray', 'Tea Green',\n",
       "       'Tea Rose (Orange)', 'Tea Rose (Rose)', 'Teal', 'Teal Blue',\n",
       "       'Teal Green', 'Telemagenta', 'Tenné (Tawny)', 'Terra Cotta',\n",
       "       'Thistle', 'Thulian Pink', 'Tickle Me Pink', 'Tiffany Blue',\n",
       "       \"Tiger'S Eye\", 'Timberwolf', 'Titanium Yellow', 'Tomato',\n",
       "       'Toolbox', 'Topaz', 'Tractor Red', 'Trolley Grey',\n",
       "       'Tropical Rain Forest', 'True Blue', 'Tufts Blue', 'Tumbleweed',\n",
       "       'Turkish Rose', 'Turquoise', 'Turquoise Blue', 'Turquoise Green',\n",
       "       'Tuscan Red', 'Twilight Lavender', 'Tyrian Purple', 'Ua Blue',\n",
       "       'Ua Red', 'Ube', 'Ucla Blue', 'Ucla Gold', 'Ufo Green',\n",
       "       'Ultra Pink', 'Ultramarine', 'Ultramarine Blue', 'Umber',\n",
       "       'Unbleached Silk', 'United Nations Blue',\n",
       "       'University Of California Gold', 'Unmellow Yellow',\n",
       "       'Up Forest Green', 'Up Maroon', 'Upsdell Red', 'Urobilin',\n",
       "       'Usafa Blue', 'Usc Cardinal', 'Usc Gold', 'Utah Crimson',\n",
       "       'Vanilla', 'Vegas Gold', 'Venetian Red', 'Verdigris',\n",
       "       'Vermilion (Cinnabar)', 'Vermilion (Plochere)', 'Veronica',\n",
       "       'Violet', 'Violet-Blue', 'Violet (Color Wheel)', 'Violet (Ryb)',\n",
       "       'Violet (Web)', 'Viridian', 'Vivid Auburn', 'Vivid Burgundy',\n",
       "       'Vivid Cerise', 'Vivid Tangerine', 'Vivid Violet', 'Warm Black',\n",
       "       'Waterspout', 'Wenge', 'Wheat', 'White', 'White Smoke',\n",
       "       'Wild Blue Yonder', 'Wild Strawberry', 'Wild Watermelon', 'Wine',\n",
       "       'Wine Dregs', 'Wisteria', 'Wood Brown', 'Xanadu', 'Yale Blue',\n",
       "       'Yellow', 'Yellow-Green', 'Yellow (Munsell)', 'Yellow (Ncs)',\n",
       "       'Yellow Orange', 'Yellow (Process)', 'Yellow (Ryb)', 'Zaffre',\n",
       "       'Zinnwaldite Brown'], dtype=object)"
      ]
     },
     "execution_count": 96,
     "metadata": {},
     "output_type": "execute_result"
    }
   ],
   "source": [
    "df['color_name'].unique()"
   ]
  },
  {
   "cell_type": "code",
   "execution_count": 97,
   "metadata": {},
   "outputs": [
    {
     "data": {
      "text/plain": [
       "maya_blue             1\n",
       "dark_spring_green     1\n",
       "spring_green          1\n",
       "violet_color_wheel    1\n",
       "olivine               1\n",
       "                     ..\n",
       "topaz                 1\n",
       "amaranth              1\n",
       "baby_blue             1\n",
       "azure                 1\n",
       "rose                  1\n",
       "Name: color, Length: 865, dtype: int64"
      ]
     },
     "execution_count": 97,
     "metadata": {},
     "output_type": "execute_result"
    }
   ],
   "source": [
    "df['color'].value_counts()"
   ]
  },
  {
   "cell_type": "code",
   "execution_count": 99,
   "metadata": {},
   "outputs": [
    {
     "data": {
      "text/plain": [
       "0      False\n",
       "1      False\n",
       "2      False\n",
       "3      False\n",
       "4      False\n",
       "       ...  \n",
       "860    False\n",
       "861    False\n",
       "862    False\n",
       "863    False\n",
       "864    False\n",
       "Name: color, Length: 865, dtype: bool"
      ]
     },
     "execution_count": 99,
     "metadata": {},
     "output_type": "execute_result"
    }
   ],
   "source": [
    "df['color'].isnull()"
   ]
  },
  {
   "cell_type": "code",
   "execution_count": 110,
   "metadata": {},
   "outputs": [
    {
     "data": {
      "text/html": [
       "<div>\n",
       "<style scoped>\n",
       "    .dataframe tbody tr th:only-of-type {\n",
       "        vertical-align: middle;\n",
       "    }\n",
       "\n",
       "    .dataframe tbody tr th {\n",
       "        vertical-align: top;\n",
       "    }\n",
       "\n",
       "    .dataframe thead th {\n",
       "        text-align: right;\n",
       "    }\n",
       "</style>\n",
       "<table border=\"1\" class=\"dataframe\">\n",
       "  <thead>\n",
       "    <tr style=\"text-align: right;\">\n",
       "      <th></th>\n",
       "      <th>color</th>\n",
       "      <th>color_name</th>\n",
       "      <th>hex</th>\n",
       "      <th>R</th>\n",
       "      <th>B</th>\n",
       "      <th>G</th>\n",
       "    </tr>\n",
       "  </thead>\n",
       "  <tbody>\n",
       "  </tbody>\n",
       "</table>\n",
       "</div>"
      ],
      "text/plain": [
       "Empty DataFrame\n",
       "Columns: [color, color_name, hex, R, B, G]\n",
       "Index: []"
      ]
     },
     "execution_count": 110,
     "metadata": {},
     "output_type": "execute_result"
    }
   ],
   "source": [
    "filter=df['color'].isnull()\n",
    "df[filter]"
   ]
  },
  {
   "cell_type": "code",
   "execution_count": 101,
   "metadata": {},
   "outputs": [],
   "source": [
    "df2=df.fillna(100)"
   ]
  },
  {
   "cell_type": "code",
   "execution_count": 102,
   "metadata": {},
   "outputs": [
    {
     "name": "stdout",
     "output_type": "stream",
     "text": [
      "                    color             color_name      hex    R    B    G\n",
      "0      air_force_blue_raf   Air Force Blue (Raf)  #5d8aa8   93  138  168\n",
      "1     air_force_blue_usaf  Air Force Blue (Usaf)  #00308f    0   48  143\n",
      "2    air_superiority_blue   Air Superiority Blue  #72a0c1  114  160  193\n",
      "3         alabama_crimson        Alabama Crimson  #a32638  163   38   56\n",
      "4              alice_blue             Alice Blue  #f0f8ff  240  248  255\n",
      "..                    ...                    ...      ...  ...  ...  ...\n",
      "860         yellow_orange          Yellow Orange  #ffae42  255  174   66\n",
      "861        yellow_process       Yellow (Process)  #ffef00  255  239    0\n",
      "862            yellow_ryb           Yellow (Ryb)  #fefe33  254  254   51\n",
      "863                zaffre                 Zaffre  #0014a8    0   20  168\n",
      "864     zinnwaldite_brown      Zinnwaldite Brown  #2c1608   44   22    8\n",
      "\n",
      "[865 rows x 6 columns]\n"
     ]
    }
   ],
   "source": [
    "print(df2)"
   ]
  },
  {
   "cell_type": "code",
   "execution_count": 103,
   "metadata": {},
   "outputs": [
    {
     "data": {
      "text/plain": [
       "R    158.598844\n",
       "B    124.683237\n",
       "G    119.087861\n",
       "dtype: float64"
      ]
     },
     "execution_count": 103,
     "metadata": {},
     "output_type": "execute_result"
    }
   ],
   "source": [
    "df.mean()"
   ]
  },
  {
   "cell_type": "code",
   "execution_count": 104,
   "metadata": {},
   "outputs": [],
   "source": [
    "df3=df.fillna(df.mean())"
   ]
  },
  {
   "cell_type": "code",
   "execution_count": 105,
   "metadata": {},
   "outputs": [
    {
     "name": "stdout",
     "output_type": "stream",
     "text": [
      "                    color             color_name      hex    R    B    G\n",
      "0      air_force_blue_raf   Air Force Blue (Raf)  #5d8aa8   93  138  168\n",
      "1     air_force_blue_usaf  Air Force Blue (Usaf)  #00308f    0   48  143\n",
      "2    air_superiority_blue   Air Superiority Blue  #72a0c1  114  160  193\n",
      "3         alabama_crimson        Alabama Crimson  #a32638  163   38   56\n",
      "4              alice_blue             Alice Blue  #f0f8ff  240  248  255\n",
      "..                    ...                    ...      ...  ...  ...  ...\n",
      "860         yellow_orange          Yellow Orange  #ffae42  255  174   66\n",
      "861        yellow_process       Yellow (Process)  #ffef00  255  239    0\n",
      "862            yellow_ryb           Yellow (Ryb)  #fefe33  254  254   51\n",
      "863                zaffre                 Zaffre  #0014a8    0   20  168\n",
      "864     zinnwaldite_brown      Zinnwaldite Brown  #2c1608   44   22    8\n",
      "\n",
      "[865 rows x 6 columns]\n"
     ]
    }
   ],
   "source": [
    "print(df3)"
   ]
  },
  {
   "cell_type": "code",
   "execution_count": 106,
   "metadata": {},
   "outputs": [],
   "source": [
    "df4=df.dropna()"
   ]
  },
  {
   "cell_type": "code",
   "execution_count": 107,
   "metadata": {},
   "outputs": [
    {
     "name": "stdout",
     "output_type": "stream",
     "text": [
      "                    color             color_name      hex    R    B    G\n",
      "0      air_force_blue_raf   Air Force Blue (Raf)  #5d8aa8   93  138  168\n",
      "1     air_force_blue_usaf  Air Force Blue (Usaf)  #00308f    0   48  143\n",
      "2    air_superiority_blue   Air Superiority Blue  #72a0c1  114  160  193\n",
      "3         alabama_crimson        Alabama Crimson  #a32638  163   38   56\n",
      "4              alice_blue             Alice Blue  #f0f8ff  240  248  255\n",
      "..                    ...                    ...      ...  ...  ...  ...\n",
      "860         yellow_orange          Yellow Orange  #ffae42  255  174   66\n",
      "861        yellow_process       Yellow (Process)  #ffef00  255  239    0\n",
      "862            yellow_ryb           Yellow (Ryb)  #fefe33  254  254   51\n",
      "863                zaffre                 Zaffre  #0014a8    0   20  168\n",
      "864     zinnwaldite_brown      Zinnwaldite Brown  #2c1608   44   22    8\n",
      "\n",
      "[865 rows x 6 columns]\n"
     ]
    }
   ],
   "source": [
    "print(df4)"
   ]
  },
  {
   "cell_type": "code",
   "execution_count": null,
   "metadata": {},
   "outputs": [],
   "source": []
  }
 ],
 "metadata": {
  "kernelspec": {
   "display_name": "Python 3",
   "language": "python",
   "name": "python3"
  },
  "language_info": {
   "codemirror_mode": {
    "name": "ipython",
    "version": 3
   },
   "file_extension": ".py",
   "mimetype": "text/x-python",
   "name": "python",
   "nbconvert_exporter": "python",
   "pygments_lexer": "ipython3",
   "version": "3.7.6"
  }
 },
 "nbformat": 4,
 "nbformat_minor": 4
}
